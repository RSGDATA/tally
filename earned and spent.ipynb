{
 "cells": [
  {
   "cell_type": "code",
   "execution_count": 11,
   "id": "abeebe70",
   "metadata": {
    "scrolled": true
   },
   "outputs": [
    {
     "name": "stdout",
     "output_type": "stream",
     "text": [
      "100\n"
     ]
    }
   ],
   "source": [
    "with open('earned.txt', 'a') as file:\n",
    "    \n",
    "    earned = int(input())\n",
    "    \n",
    "#     spent = input('write what you spent')\n",
    "    \n",
    "    \n",
    "    lst = []\n",
    "    sub = 0\n",
    "    \n",
    "  \n",
    "        \n",
    "    tally = file.write(str(earned) + \",\")\n",
    "\n",
    "    tally \n"
   ]
  },
  {
   "cell_type": "code",
   "execution_count": 62,
   "id": "c3590ad9",
   "metadata": {},
   "outputs": [
    {
     "ename": "FileNotFoundError",
     "evalue": "[Errno 2] No such file or directory: 'earned.txt'",
     "output_type": "error",
     "traceback": [
      "\u001b[0;31m---------------------------------------------------------------------------\u001b[0m",
      "\u001b[0;31mFileNotFoundError\u001b[0m                         Traceback (most recent call last)",
      "\u001b[0;32m/var/folders/qt/z1139kj16rq91qs03f19sz2c0000gn/T/ipykernel_1782/277914983.py\u001b[0m in \u001b[0;36m<module>\u001b[0;34m\u001b[0m\n\u001b[0;32m----> 1\u001b[0;31m \u001b[0;32mwith\u001b[0m \u001b[0mopen\u001b[0m\u001b[0;34m(\u001b[0m\u001b[0;34m'earned.txt'\u001b[0m\u001b[0;34m)\u001b[0m \u001b[0;32mas\u001b[0m \u001b[0mtallyfile\u001b[0m\u001b[0;34m:\u001b[0m\u001b[0;34m\u001b[0m\u001b[0;34m\u001b[0m\u001b[0m\n\u001b[0m\u001b[1;32m      2\u001b[0m     \u001b[0mlines\u001b[0m \u001b[0;34m=\u001b[0m \u001b[0mtallyfile\u001b[0m\u001b[0;34m.\u001b[0m\u001b[0mread\u001b[0m\u001b[0;34m(\u001b[0m\u001b[0;34m)\u001b[0m\u001b[0;34m.\u001b[0m\u001b[0msplit\u001b[0m\u001b[0;34m(\u001b[0m\u001b[0;34m','\u001b[0m\u001b[0;34m)\u001b[0m\u001b[0;34m\u001b[0m\u001b[0;34m\u001b[0m\u001b[0m\n\u001b[1;32m      3\u001b[0m \u001b[0;34m\u001b[0m\u001b[0m\n\u001b[1;32m      4\u001b[0m     \u001b[0mtallylist\u001b[0m \u001b[0;34m=\u001b[0m \u001b[0;34m[\u001b[0m\u001b[0;34m]\u001b[0m\u001b[0;34m\u001b[0m\u001b[0;34m\u001b[0m\u001b[0m\n\u001b[1;32m      5\u001b[0m \u001b[0;34m\u001b[0m\u001b[0m\n",
      "\u001b[0;31mFileNotFoundError\u001b[0m: [Errno 2] No such file or directory: 'earned.txt'"
     ]
    }
   ],
   "source": [
    "with open('earned.txt') as tallyfile:\n",
    "    lines = tallyfile.read().split(',')\n",
    "    \n",
    "    tallylist = []\n",
    "    \n",
    "    for line in lines:\n",
    "        tallylist.append(line)"
   ]
  },
  {
   "cell_type": "code",
   "execution_count": 13,
   "id": "4b020dd8",
   "metadata": {},
   "outputs": [],
   "source": [
    "tally_list = tallylist[0:-1]"
   ]
  },
  {
   "cell_type": "code",
   "execution_count": 14,
   "id": "ad1ae8de",
   "metadata": {
    "scrolled": false
   },
   "outputs": [
    {
     "data": {
      "text/plain": [
       "['100', '100']"
      ]
     },
     "execution_count": 14,
     "metadata": {},
     "output_type": "execute_result"
    }
   ],
   "source": [
    "tally_list"
   ]
  },
  {
   "cell_type": "code",
   "execution_count": 76,
   "id": "385ea2b4",
   "metadata": {},
   "outputs": [
    {
     "name": "stdout",
     "output_type": "stream",
     "text": [
      "100\n"
     ]
    }
   ],
   "source": [
    "with open('spent.txt', 'a') as spentfile:\n",
    "    \n",
    "    spent = int(input())\n",
    "    \n",
    "#     spent = input('write what you spent')\n",
    "    \n",
    "    \n",
    "    lst = []\n",
    "    sub = 0\n",
    "    \n",
    "  \n",
    "        \n",
    "    tally = spentfile.write(str(spent) + \",\")\n",
    "\n",
    "    tally \n",
    "    "
   ]
  },
  {
   "cell_type": "code",
   "execution_count": 77,
   "id": "d0aac17a",
   "metadata": {},
   "outputs": [],
   "source": [
    "with open('spent.txt') as spentfile:\n",
    "    lines = spentfile.read().split(',')\n",
    "    \n",
    "    spentlist = []\n",
    "    \n",
    "    for line in lines:\n",
    "        spentlist.append(line)"
   ]
  },
  {
   "cell_type": "code",
   "execution_count": 78,
   "id": "530a9fce",
   "metadata": {},
   "outputs": [
    {
     "data": {
      "text/plain": [
       "['100', '100']"
      ]
     },
     "execution_count": 78,
     "metadata": {},
     "output_type": "execute_result"
    }
   ],
   "source": [
    "spent_list = spentlist[0:-1]\n",
    "spent_list"
   ]
  },
  {
   "cell_type": "code",
   "execution_count": 79,
   "id": "37c10111",
   "metadata": {},
   "outputs": [],
   "source": [
    "accum = 0\n",
    "\n",
    "for elem in spent_list:\n",
    "    accum += int(elem)\n",
    "total_spent = accum    "
   ]
  },
  {
   "cell_type": "code",
   "execution_count": 80,
   "id": "c0cbe67d",
   "metadata": {},
   "outputs": [
    {
     "data": {
      "text/plain": [
       "200"
      ]
     },
     "execution_count": 80,
     "metadata": {},
     "output_type": "execute_result"
    }
   ],
   "source": [
    "total_spent"
   ]
  },
  {
   "cell_type": "code",
   "execution_count": 110,
   "id": "4ca080b6",
   "metadata": {},
   "outputs": [],
   "source": [
    "def tally(earned = 0,spent = 0):\n",
    "    with open('earned.txt', 'a') as file:\n",
    "    \n",
    "\n",
    "        tally = file.write(str(earned) + \",\")\n",
    "\n",
    "        tally \n",
    "        \n",
    "    with open('earned.txt') as tallyfile:\n",
    "        lines = tallyfile.read().split(',')\n",
    "\n",
    "        tallylist = []\n",
    "\n",
    "        for line in lines:\n",
    "            tallylist.append(line)\n",
    "        \n",
    "        tally_list = tallylist[0:-1]\n",
    "        \n",
    "        accum = 0\n",
    "\n",
    "        for elem in tally_list:\n",
    "            accum += int(elem)\n",
    "        \n",
    "        total_earned = accum\n",
    "        \n",
    "    with open('spent.txt', 'a') as spentfile:\n",
    "    \n",
    "        \n",
    "        tally = spentfile.write(str(spent) + \",\")\n",
    "\n",
    "        tally \n",
    "    \n",
    "    with open('spent.txt') as spentfile:\n",
    "        \n",
    "        lines = spentfile.read().split(',')\n",
    "\n",
    "        spentlist = []\n",
    "\n",
    "        for line in lines:\n",
    "            spentlist.append(line)\n",
    "        \n",
    "        spent_list = spentlist[0:-1]\n",
    "        \n",
    "        accum = 0\n",
    "\n",
    "        for elem in spent_list:\n",
    "            accum += int(elem)\n",
    "        total_spent = accum    \n",
    "\n",
    "\n",
    "        \n",
    "        return total_earned - total_spent\n",
    "\n",
    "    \n",
    "    "
   ]
  },
  {
   "cell_type": "code",
   "execution_count": null,
   "id": "a0b927b5",
   "metadata": {},
   "outputs": [],
   "source": []
  },
  {
   "cell_type": "code",
   "execution_count": 113,
   "id": "24fdc3b7",
   "metadata": {
    "scrolled": true
   },
   "outputs": [
    {
     "data": {
      "text/plain": [
       "-700"
      ]
     },
     "execution_count": 113,
     "metadata": {},
     "output_type": "execute_result"
    }
   ],
   "source": [
    "tally(50,1000)"
   ]
  },
  {
   "cell_type": "code",
   "execution_count": 15,
   "id": "1c171ef5",
   "metadata": {},
   "outputs": [],
   "source": [
    "accum = 0\n",
    "\n",
    "for elem in tally_list:\n",
    "    accum += int(elem)"
   ]
  },
  {
   "cell_type": "code",
   "execution_count": 16,
   "id": "64a492c9",
   "metadata": {},
   "outputs": [],
   "source": [
    "total_earned = accum"
   ]
  },
  {
   "cell_type": "code",
   "execution_count": 17,
   "id": "bb19d584",
   "metadata": {},
   "outputs": [
    {
     "data": {
      "text/plain": [
       "200"
      ]
     },
     "execution_count": 17,
     "metadata": {},
     "output_type": "execute_result"
    }
   ],
   "source": [
    "total_earned"
   ]
  },
  {
   "cell_type": "code",
   "execution_count": 2,
   "id": "8a17e48b",
   "metadata": {},
   "outputs": [],
   "source": [
    "# def tally(earned, spent):\n",
    "#     with open('earned.txt', 'a') as file:\n",
    "    \n",
    "        \n",
    "    \n",
    "#         lst = []\n",
    "#         sub = 0\n",
    "\n",
    "#         file.write(str(earned) + \",\")\n",
    "\n",
    "\n",
    "#         with open('earned.txt') as earnedfile:\n",
    "#             lines = earnedfile.read().split(',')\n",
    "\n",
    "#             earnedlist = []\n",
    "\n",
    "#             for line in lines:\n",
    "#                 earnedlist.append(line)\n",
    "\n",
    "#             accum = 0\n",
    "\n",
    "#             for elem in earnedlist:\n",
    "#                 accum += int(elem)\n",
    "#             print(earnedlist)    \n",
    "#             return earnedlist\n",
    "\n",
    "#             total_earned = accum \n",
    "#             print(total_earned)\n",
    "\n",
    "#         with open('spent.txt', 'a') as file1:\n",
    "\n",
    "            \n",
    "\n",
    "#             lst = []\n",
    "#             sub = 0\n",
    "\n",
    "#             file1.write(str(spent) + \",\")\n",
    "\n",
    "\n",
    "#         with open('spent.txt') as spentfile:\n",
    "#             lines1 = spentfile.read().split(',')\n",
    "\n",
    "#             spentlist = []\n",
    "\n",
    "#             for line in lines1:\n",
    "#                 spentlist.append(line)\n",
    "            \n",
    "#             accum1 = 0\n",
    "#             for elem in spentlist:\n",
    "#                 accum1 += int(elem)\n",
    "\n",
    "#             total_spent = accum1  \n",
    "\n",
    "\n",
    "#             tally = total_earned - total_spent\n",
    "\n",
    "#         with open('tally.txt', 'w') as file2:\n",
    "\n",
    "#             tally_file = file2.write(tally)\n",
    "\n",
    "\n",
    "#         return tally_file\n",
    "    \n",
    "\n",
    "    \n",
    "\n",
    "  \n",
    "    "
   ]
  },
  {
   "cell_type": "code",
   "execution_count": 3,
   "id": "31c0e9f6",
   "metadata": {},
   "outputs": [
    {
     "ename": "TypeError",
     "evalue": "tally() missing 1 required positional argument: 'spent'",
     "output_type": "error",
     "traceback": [
      "\u001b[0;31m---------------------------------------------------------------------------\u001b[0m",
      "\u001b[0;31mTypeError\u001b[0m                                 Traceback (most recent call last)",
      "\u001b[0;32m/var/folders/qt/z1139kj16rq91qs03f19sz2c0000gn/T/ipykernel_1782/3968234742.py\u001b[0m in \u001b[0;36m<module>\u001b[0;34m\u001b[0m\n\u001b[0;32m----> 1\u001b[0;31m \u001b[0mtally\u001b[0m\u001b[0;34m(\u001b[0m\u001b[0;36m100\u001b[0m\u001b[0;34m)\u001b[0m\u001b[0;34m\u001b[0m\u001b[0;34m\u001b[0m\u001b[0m\n\u001b[0m",
      "\u001b[0;31mTypeError\u001b[0m: tally() missing 1 required positional argument: 'spent'"
     ]
    }
   ],
   "source": [
    "tally(100)"
   ]
  },
  {
   "cell_type": "code",
   "execution_count": null,
   "id": "5b915486",
   "metadata": {},
   "outputs": [],
   "source": []
  }
 ],
 "metadata": {
  "kernelspec": {
   "display_name": "Python 3 (ipykernel)",
   "language": "python",
   "name": "python3"
  },
  "language_info": {
   "codemirror_mode": {
    "name": "ipython",
    "version": 3
   },
   "file_extension": ".py",
   "mimetype": "text/x-python",
   "name": "python",
   "nbconvert_exporter": "python",
   "pygments_lexer": "ipython3",
   "version": "3.9.7"
  }
 },
 "nbformat": 4,
 "nbformat_minor": 5
}
