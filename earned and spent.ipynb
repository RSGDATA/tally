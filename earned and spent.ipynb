{
 "cells": [
  {
   "cell_type": "code",
   "execution_count": 1,
   "id": "abeebe70",
   "metadata": {
    "scrolled": true
   },
   "outputs": [],
   "source": [
    "# with open('earned.txt', 'a') as file:\n",
    "    \n",
    "#     earned = int(input())\n",
    "    \n",
    "# #     spent = input('write what you spent')\n",
    "    \n",
    "    \n",
    "#     lst = []\n",
    "#     sub = 0\n",
    "    \n",
    "  \n",
    "        \n",
    "#     tally = file.write(str(earned) + \",\")\n",
    "\n",
    "#     tally \n"
   ]
  },
  {
   "cell_type": "code",
   "execution_count": 2,
   "id": "c3590ad9",
   "metadata": {},
   "outputs": [],
   "source": [
    "# with open('earned.txt') as tallyfile:\n",
    "#     lines = tallyfile.read().split(',')\n",
    "    \n",
    "#     tallylist = []\n",
    "    \n",
    "#     for line in lines:\n",
    "#         tallylist.append(line)"
   ]
  },
  {
   "cell_type": "code",
   "execution_count": 3,
   "id": "4b020dd8",
   "metadata": {},
   "outputs": [],
   "source": [
    "# tally_list = tallylist[0:-1]"
   ]
  },
  {
   "cell_type": "code",
   "execution_count": 4,
   "id": "ad1ae8de",
   "metadata": {
    "scrolled": false
   },
   "outputs": [],
   "source": [
    "# tally_list"
   ]
  },
  {
   "cell_type": "code",
   "execution_count": 5,
   "id": "ad563768",
   "metadata": {},
   "outputs": [],
   "source": [
    "# with open('spent.txt', 'a') as spentfile:\n",
    "    \n",
    "#     spent = int(input())\n",
    "    \n",
    "# #     spent = input('write what you spent')\n",
    "# #     \n",
    "    \n",
    "#     lst = []\n",
    "#     sub = 0\n",
    "    \n",
    "  \n",
    "        \n",
    "#     tally = spentfile.write(str(spent) + \",\")\n",
    "\n",
    "#     tally \n",
    "    "
   ]
  },
  {
   "cell_type": "code",
   "execution_count": 6,
   "id": "8802746f",
   "metadata": {},
   "outputs": [],
   "source": [
    "# with open('spent.txt') as spentfile:\n",
    "#     lines = spentfile.read().split(',')\n",
    "    \n",
    "#     spentlist = []\n",
    "    \n",
    "#     for line in lines:\n",
    "#         spentlist.append(line)"
   ]
  },
  {
   "cell_type": "code",
   "execution_count": 7,
   "id": "1369cbfa",
   "metadata": {},
   "outputs": [],
   "source": [
    "# spent_list = spentlist[0:-1]\n",
    "# spent_list"
   ]
  },
  {
   "cell_type": "code",
   "execution_count": 8,
   "id": "656a999b",
   "metadata": {},
   "outputs": [],
   "source": [
    "# accum = 0\n",
    "\n",
    "# for elem in spent_list:\n",
    "#     accum += int(elem)\n",
    "# total_spent = accum    "
   ]
  },
  {
   "cell_type": "code",
   "execution_count": 9,
   "id": "8fb5ac8c",
   "metadata": {},
   "outputs": [],
   "source": [
    "# total_spent"
   ]
  },
  {
   "cell_type": "code",
   "execution_count": 10,
   "id": "7d3f74de",
   "metadata": {},
   "outputs": [],
   "source": [
    "def tally(earned = 0,spent = 0):\n",
    "    with open('earned.txt', 'a') as file:\n",
    "    \n",
    "\n",
    "        tally = file.write(str(earned) + \",\")\n",
    "\n",
    "        tally \n",
    "        \n",
    "    with open('earned.txt') as tallyfile:\n",
    "        lines = tallyfile.read().split(',')\n",
    "\n",
    "        tallylist = []\n",
    "\n",
    "        for line in lines:\n",
    "            tallylist.append(line)\n",
    "        \n",
    "        tally_list = tallylist[0:-1]\n",
    "        \n",
    "        accum = 0\n",
    "\n",
    "        for elem in tally_list:\n",
    "            accum += int(elem)\n",
    "        \n",
    "        total_earned = accum\n",
    "        \n",
    "    with open('spent.txt', 'a') as spentfile:\n",
    "    \n",
    "        \n",
    "        tally = spentfile.write(str(spent) + \",\")\n",
    "\n",
    "        tally \n",
    "    \n",
    "    with open('spent.txt') as spentfile:\n",
    "        \n",
    "        lines = spentfile.read().split(',')\n",
    "\n",
    "        spentlist = []\n",
    "\n",
    "        for line in lines:\n",
    "            spentlist.append(line)\n",
    "        \n",
    "        spent_list = spentlist[0:-1]\n",
    "        \n",
    "        accum = 0\n",
    "\n",
    "        for elem in spent_list:\n",
    "            accum += int(elem)\n",
    "        total_spent = accum    \n",
    "\n",
    "\n",
    "        \n",
    "        return total_earned - total_spent\n",
    "\n",
    "    \n",
    "    "
   ]
  },
  {
   "cell_type": "code",
   "execution_count": 26,
   "id": "6535dc9f",
   "metadata": {},
   "outputs": [],
   "source": [
    "# class Tally():\n",
    "#     def __init__(self,earned,spent):\n",
    "#         self.earned = earned\n",
    "#         self.spent = spent\n",
    "        \n",
    "#     def __str__(self):\n",
    "#         return 'earned: {} spent: {}'.format(self.earned,self.spent)\n",
    "    \n",
    "#     def earned(self,earned):\n",
    "#         lst = []\n",
    "#         lst.append(self.earned)\n",
    "        \n",
    "#         accum += 1\n",
    "        \n",
    "#         for elem in lst:\n",
    "#             accum += elem\n",
    "#         total = accum\n",
    "        \n",
    "#         return total\n",
    "            \n",
    "# es = Tally(100,50)        \n",
    "\n",
    "# print(es.earned())\n",
    "\n"
   ]
  },
  {
   "cell_type": "code",
   "execution_count": 15,
   "id": "d6a8052d",
   "metadata": {
    "scrolled": true
   },
   "outputs": [
    {
     "data": {
      "text/plain": [
       "0"
      ]
     },
     "execution_count": 15,
     "metadata": {},
     "output_type": "execute_result"
    }
   ],
   "source": [
    "tally()"
   ]
  },
  {
   "cell_type": "code",
   "execution_count": null,
   "id": "1c171ef5",
   "metadata": {},
   "outputs": [],
   "source": [
    "accum = 0\n",
    "\n",
    "for elem in tally_list:\n",
    "    accum += int(elem)"
   ]
  },
  {
   "cell_type": "code",
   "execution_count": null,
   "id": "64a492c9",
   "metadata": {},
   "outputs": [],
   "source": [
    "total_earned = accum"
   ]
  },
  {
   "cell_type": "code",
   "execution_count": null,
   "id": "bb19d584",
   "metadata": {},
   "outputs": [],
   "source": [
    "total_earned"
   ]
  },
  {
   "cell_type": "code",
   "execution_count": null,
   "id": "8a17e48b",
   "metadata": {},
   "outputs": [],
   "source": [
    "# def tally(earned, spent):\n",
    "#     with open('earned.txt', 'a') as file:\n",
    "    \n",
    "        \n",
    "    \n",
    "#         lst = []\n",
    "#         sub = 0\n",
    "\n",
    "#         file.write(str(earned) + \",\")\n",
    "\n",
    "\n",
    "#         with open('earned.txt') as earnedfile:\n",
    "#             lines = earnedfile.read().split(',')\n",
    "\n",
    "#             earnedlist = []\n",
    "\n",
    "#             for line in lines:\n",
    "#                 earnedlist.append(line)\n",
    "\n",
    "#             accum = 0\n",
    "\n",
    "#             for elem in earnedlist:\n",
    "#                 accum += int(elem)\n",
    "#             print(earnedlist)    \n",
    "#             return earnedlist\n",
    "\n",
    "#             total_earned = accum \n",
    "#             print(total_earned)\n",
    "\n",
    "#         with open('spent.txt', 'a') as file1:\n",
    "\n",
    "            \n",
    "\n",
    "#             lst = []\n",
    "#             sub = 0\n",
    "\n",
    "#             file1.write(str(spent) + \",\")\n",
    "\n",
    "\n",
    "#         with open('spent.txt') as spentfile:\n",
    "#             lines1 = spentfile.read().split(',')\n",
    "\n",
    "#             spentlist = []\n",
    "\n",
    "#             for line in lines1:\n",
    "#                 spentlist.append(line)\n",
    "            \n",
    "#             accum1 = 0\n",
    "#             for elem in spentlist:\n",
    "#                 accum1 += int(elem)\n",
    "\n",
    "#             total_spent = accum1  \n",
    "\n",
    "\n",
    "#             tally = total_earned - total_spent\n",
    "\n",
    "#         with open('tally.txt', 'w') as file2:\n",
    "\n",
    "#             tally_file = file2.write(tally)\n",
    "\n",
    "\n",
    "#         return tally_file\n",
    "    \n",
    "\n",
    "    \n",
    "\n",
    "  \n",
    "    "
   ]
  },
  {
   "cell_type": "code",
   "execution_count": null,
   "id": "31c0e9f6",
   "metadata": {},
   "outputs": [],
   "source": [
    "tally(100)"
   ]
  },
  {
   "cell_type": "code",
   "execution_count": null,
   "id": "5b915486",
   "metadata": {},
   "outputs": [],
   "source": []
  }
 ],
 "metadata": {
  "kernelspec": {
   "display_name": "Python 3 (ipykernel)",
   "language": "python",
   "name": "python3"
  },
  "language_info": {
   "codemirror_mode": {
    "name": "ipython",
    "version": 3
   },
   "file_extension": ".py",
   "mimetype": "text/x-python",
   "name": "python",
   "nbconvert_exporter": "python",
   "pygments_lexer": "ipython3",
   "version": "3.9.7"
  }
 },
 "nbformat": 4,
 "nbformat_minor": 5
}
