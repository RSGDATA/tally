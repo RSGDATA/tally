{
 "cells": [
  {
   "cell_type": "code",
   "execution_count": 8,
   "id": "58201036",
   "metadata": {},
   "outputs": [
    {
     "name": "stdout",
     "output_type": "stream",
     "text": [
      "150\n"
     ]
    }
   ],
   "source": [
    "with open('earned.txt', 'a') as file:\n",
    "    \n",
    "    earned = int(input())\n",
    "    \n",
    "#     spent = input('write what you spent')\n",
    "    \n",
    "    \n",
    "    lst = []\n",
    "    sub = 0\n",
    "    \n",
    "  \n",
    "        \n",
    "    tally = file.write(str(earned) + \",\")\n",
    "\n",
    "    tally \n"
   ]
  },
  {
   "cell_type": "code",
   "execution_count": 9,
   "id": "b5c1c33a",
   "metadata": {},
   "outputs": [],
   "source": [
    "with open('earned.txt') as tallyfile:\n",
    "    lines = tallyfile.read().split(',')\n",
    "    \n",
    "    tallylist = []\n",
    "    \n",
    "    for line in lines:\n",
    "        tallylist.append(line)"
   ]
  },
  {
   "cell_type": "code",
   "execution_count": 14,
   "id": "3c2ba23c",
   "metadata": {},
   "outputs": [],
   "source": [
    "tally_list = tallylist[0:-1]"
   ]
  },
  {
   "cell_type": "code",
   "execution_count": 15,
   "id": "86b70230",
   "metadata": {},
   "outputs": [
    {
     "data": {
      "text/plain": [
       "['150', '150']"
      ]
     },
     "execution_count": 15,
     "metadata": {},
     "output_type": "execute_result"
    }
   ],
   "source": [
    "tally_list"
   ]
  },
  {
   "cell_type": "code",
   "execution_count": null,
   "id": "fc994278",
   "metadata": {},
   "outputs": [],
   "source": []
  }
 ],
 "metadata": {
  "kernelspec": {
   "display_name": "Python 3 (ipykernel)",
   "language": "python",
   "name": "python3"
  },
  "language_info": {
   "codemirror_mode": {
    "name": "ipython",
    "version": 3
   },
   "file_extension": ".py",
   "mimetype": "text/x-python",
   "name": "python",
   "nbconvert_exporter": "python",
   "pygments_lexer": "ipython3",
   "version": "3.9.7"
  }
 },
 "nbformat": 4,
 "nbformat_minor": 5
}
