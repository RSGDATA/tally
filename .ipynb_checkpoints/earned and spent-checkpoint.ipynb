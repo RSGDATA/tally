{
 "cells": [
  {
   "cell_type": "code",
   "execution_count": 1,
   "id": "abeebe70",
   "metadata": {},
   "outputs": [],
   "source": [
    "# with open('earned.txt', 'a') as file:\n",
    "    \n",
    "#     earned = int(input())\n",
    "    \n",
    "# #     spent = input('write what you spent')\n",
    "    \n",
    "    \n",
    "#     lst = []\n",
    "#     sub = 0\n",
    "    \n",
    "  \n",
    "        \n",
    "#     tally = file.write(str(earned) + \",\")\n",
    "\n",
    "#     tally \n"
   ]
  },
  {
   "cell_type": "code",
   "execution_count": 2,
   "id": "c3590ad9",
   "metadata": {},
   "outputs": [],
   "source": [
    "# with open('earned.txt') as tallyfile:\n",
    "#     lines = tallyfile.read().split(',')\n",
    "    \n",
    "#     tallylist = []\n",
    "    \n",
    "#     for line in lines:\n",
    "#         tallylist.append(line)"
   ]
  },
  {
   "cell_type": "code",
   "execution_count": 3,
   "id": "4b020dd8",
   "metadata": {},
   "outputs": [],
   "source": [
    "# tally_list = tallylist[0:-1]"
   ]
  },
  {
   "cell_type": "code",
   "execution_count": 4,
   "id": "ad1ae8de",
   "metadata": {},
   "outputs": [],
   "source": [
    "# tally_list"
   ]
  },
  {
   "cell_type": "code",
   "execution_count": 5,
   "id": "1c171ef5",
   "metadata": {},
   "outputs": [],
   "source": [
    "# accum = 0\n",
    "\n",
    "# for elem in tally_list:\n",
    "#     accum += int(elem)"
   ]
  },
  {
   "cell_type": "code",
   "execution_count": 6,
   "id": "64a492c9",
   "metadata": {},
   "outputs": [],
   "source": [
    "# total_earned = accum"
   ]
  },
  {
   "cell_type": "code",
   "execution_count": 7,
   "id": "bb19d584",
   "metadata": {},
   "outputs": [],
   "source": [
    "# total_earned"
   ]
  },
  {
   "cell_type": "code",
   "execution_count": 20,
   "id": "8a17e48b",
   "metadata": {},
   "outputs": [],
   "source": [
    "def tally(earned, spent):\n",
    "    with open('earned.txt', 'a') as file:\n",
    "    \n",
    "        \n",
    "    \n",
    "        lst = []\n",
    "        sub = 0\n",
    "\n",
    "        file.write(str(earned) + \",\")\n",
    "\n",
    "\n",
    "        with open('earned.txt') as earnedfile:\n",
    "            lines = earnedfile.read().split(',')\n",
    "\n",
    "            earnedlist = []\n",
    "\n",
    "            for line in lines:\n",
    "                earnedlist.append(line)\n",
    "\n",
    "            accum = 0\n",
    "\n",
    "            for elem in earnedlist:\n",
    "                accum += int(elem)\n",
    "            print(earnedlist)    \n",
    "            return earnedlist\n",
    "\n",
    "            total_earned = accum \n",
    "            print(total_earned)\n",
    "\n",
    "        with open('spent.txt', 'a') as file1:\n",
    "\n",
    "            \n",
    "\n",
    "            lst = []\n",
    "            sub = 0\n",
    "\n",
    "            file1.write(str(spent) + \",\")\n",
    "\n",
    "\n",
    "        with open('spent.txt') as spentfile:\n",
    "            lines1 = spentfile.read().split(',')\n",
    "\n",
    "            spentlist = []\n",
    "\n",
    "            for line in lines1:\n",
    "                spentlist.append(line)\n",
    "            \n",
    "            accum1 = 0\n",
    "            for elem in spentlist:\n",
    "                accum1 += int(elem)\n",
    "\n",
    "            total_spent = accum1  \n",
    "\n",
    "\n",
    "            tally = total_earned - total_spent\n",
    "\n",
    "        with open('tally.txt', 'w') as file2:\n",
    "\n",
    "            tally_file = file2.write(tally)\n",
    "\n",
    "\n",
    "        return tally_file\n",
    "    \n",
    "\n",
    "    \n",
    "\n",
    "  \n",
    "    "
   ]
  },
  {
   "cell_type": "code",
   "execution_count": 21,
   "id": "31c0e9f6",
   "metadata": {},
   "outputs": [
    {
     "ename": "ValueError",
     "evalue": "invalid literal for int() with base 10: ''",
     "output_type": "error",
     "traceback": [
      "\u001b[0;31m---------------------------------------------------------------------------\u001b[0m",
      "\u001b[0;31mValueError\u001b[0m                                Traceback (most recent call last)",
      "\u001b[0;32m/var/folders/qt/z1139kj16rq91qs03f19sz2c0000gn/T/ipykernel_36512/3786052613.py\u001b[0m in \u001b[0;36m<module>\u001b[0;34m\u001b[0m\n\u001b[0;32m----> 1\u001b[0;31m \u001b[0mtally\u001b[0m\u001b[0;34m(\u001b[0m\u001b[0;36m100\u001b[0m\u001b[0;34m,\u001b[0m\u001b[0;36m50\u001b[0m\u001b[0;34m)\u001b[0m\u001b[0;34m\u001b[0m\u001b[0;34m\u001b[0m\u001b[0m\n\u001b[0m",
      "\u001b[0;32m/var/folders/qt/z1139kj16rq91qs03f19sz2c0000gn/T/ipykernel_36512/3497927432.py\u001b[0m in \u001b[0;36mtally\u001b[0;34m(earned, spent)\u001b[0m\n\u001b[1;32m     21\u001b[0m \u001b[0;34m\u001b[0m\u001b[0m\n\u001b[1;32m     22\u001b[0m             \u001b[0;32mfor\u001b[0m \u001b[0melem\u001b[0m \u001b[0;32min\u001b[0m \u001b[0mearnedlist\u001b[0m\u001b[0;34m:\u001b[0m\u001b[0;34m\u001b[0m\u001b[0;34m\u001b[0m\u001b[0m\n\u001b[0;32m---> 23\u001b[0;31m                 \u001b[0maccum\u001b[0m \u001b[0;34m+=\u001b[0m \u001b[0mint\u001b[0m\u001b[0;34m(\u001b[0m\u001b[0melem\u001b[0m\u001b[0;34m)\u001b[0m\u001b[0;34m\u001b[0m\u001b[0;34m\u001b[0m\u001b[0m\n\u001b[0m\u001b[1;32m     24\u001b[0m             \u001b[0mprint\u001b[0m\u001b[0;34m(\u001b[0m\u001b[0mearnedlist\u001b[0m\u001b[0;34m)\u001b[0m\u001b[0;34m\u001b[0m\u001b[0;34m\u001b[0m\u001b[0m\n\u001b[1;32m     25\u001b[0m             \u001b[0;32mreturn\u001b[0m \u001b[0mearnedlist\u001b[0m\u001b[0;34m\u001b[0m\u001b[0;34m\u001b[0m\u001b[0m\n",
      "\u001b[0;31mValueError\u001b[0m: invalid literal for int() with base 10: ''"
     ]
    }
   ],
   "source": [
    "tally(100,50)"
   ]
  },
  {
   "cell_type": "code",
   "execution_count": null,
   "id": "5b915486",
   "metadata": {},
   "outputs": [],
   "source": []
  }
 ],
 "metadata": {
  "kernelspec": {
   "display_name": "Python 3 (ipykernel)",
   "language": "python",
   "name": "python3"
  },
  "language_info": {
   "codemirror_mode": {
    "name": "ipython",
    "version": 3
   },
   "file_extension": ".py",
   "mimetype": "text/x-python",
   "name": "python",
   "nbconvert_exporter": "python",
   "pygments_lexer": "ipython3",
   "version": "3.9.7"
  }
 },
 "nbformat": 4,
 "nbformat_minor": 5
}
